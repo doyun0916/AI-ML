{
 "cells": [
  {
   "cell_type": "code",
   "execution_count": 1,
   "metadata": {},
   "outputs": [],
   "source": [
    "from sklearn.datasets import fetch_openml\n",
    "import numpy as np\n",
    "import matplotlib as mlt\n",
    "import matplotlib.pyplot as plt\n",
    "from sklearn.metrics import accuracy_score, mean_squared_error\n",
    "from sklearn.model_selection import cross_val_score\n",
    "from sklearn.preprocessing import MinMaxScaler"
   ]
  },
  {
   "cell_type": "code",
   "execution_count": 2,
   "metadata": {},
   "outputs": [
    {
     "name": "stdout",
     "output_type": "stream",
     "text": [
      "(70000, 784)\n",
      "(70000,)\n"
     ]
    }
   ],
   "source": [
    "mnist = fetch_openml('mnist_784', version=1)\n",
    "mnist.keys()\n",
    "X,y = mnist['data'], mnist['target']\n",
    "print(X.shape)\n",
    "print(y.shape)"
   ]
  },
  {
   "cell_type": "code",
   "execution_count": 3,
   "metadata": {},
   "outputs": [
    {
     "data": {
      "image/png": "[encoded data removed]",
      "text/plain": [
       "<Figure size 432x288 with 1 Axes>"
      ]
     },
     "metadata": {
      "needs_background": "light"
     },
     "output_type": "display_data"
    },
    {
     "name": "stdout",
     "output_type": "stream",
     "text": [
      "<class 'str'>\n",
      "<class 'numpy.ndarray'> this\n"
     ]
    }
   ],
   "source": [
    "some_digit=X[0]\n",
    "some_digit_image=some_digit.reshape(28,28)\n",
    "plt.imshow(some_digit_image, cmap=\"binary\")\n",
    "plt.show()\n",
    "y[0]                            #문자형이므로 숫자형으로 바꾸어야 함\n",
    "print(type(y[0]))\n",
    "y=y.astype(np.uint8)\n",
    "y=y.astype(np.uint8)\n",
    "print(type(y), \"this\")\n",
    "X_train, X_test, y_train, y_test = X[:60000], X[10000:], y[:60000], y[10000:] #앞쪽 60000개train set 뒤쪽 10000개 test셋으로 나눔\n",
    "\n",
    "\n",
    "minMaxScaler = MinMaxScaler()                       # Logistic regression에 적용시, training 속도 향상을 위해 스케일링 함.\n",
    "X_scaled = minMaxScaler.fit_transform(X)            # 이는 decision tree기반 알고리즘에는 영향을 안줌으로, 그대로 RandomForest 등에 사용.\n",
    "X_train_scaled = minMaxScaler.transform(X_train)\n",
    "X_test_scaled = minMaxScaler.transform(X_test)"
   ]
  },
  {
   "cell_type": "markdown",
   "metadata": {},
   "source": [
    "# RandomForest"
   ]
  },
  {
   "cell_type": "code",
   "execution_count": 6,
   "metadata": {},
   "outputs": [],
   "source": [
    "from sklearn.ensemble import RandomForestClassifier"
   ]
  },
  {
   "cell_type": "code",
   "execution_count": 7,
   "metadata": {},
   "outputs": [],
   "source": [
    "rf=RandomForestClassifier(random_state=42).fit(X_train_scaled, y_train)\n",
    "pred=rf.predict(X_test_scaled)"
   ]
  },
  {
   "cell_type": "code",
   "execution_count": 36,
   "metadata": {},
   "outputs": [],
   "source": [
    "accuracy = accuracy_score(y_test , pred)"
   ]
  },
  {
   "cell_type": "code",
   "execution_count": 37,
   "metadata": {},
   "outputs": [
    {
     "name": "stdout",
     "output_type": "stream",
     "text": [
      "0.9949\n"
     ]
    }
   ],
   "source": [
    "print(accuracy)"
   ]
  },
  {
   "cell_type": "code",
   "execution_count": 10,
   "metadata": {},
   "outputs": [
    {
     "name": "stdout",
     "output_type": "stream",
     "text": [
      "교차 검증 0 정확도: 0.9644\n",
      "교차 검증 1 정확도: 0.9632\n",
      "교차 검증 2 정확도: 0.9686\n",
      "교차 검증 평균 정확도: 0.9654\n"
     ]
    }
   ],
   "source": [
    "score_c = cross_val_score(rf, X_scaled, y, cv=3)\n",
    "for iter_count, accuracy in enumerate(score_c):\n",
    "    print(\"교차 검증 {0} 정확도: {1:.4f}\".format(iter_count, accuracy))\n",
    "print(\"교차 검증 평균 정확도: {0:.4f}\".format(np.mean(score_c)))"
   ]
  },
  {
   "cell_type": "markdown",
   "metadata": {},
   "source": [
    "# Logistic regression"
   ]
  },
  {
   "cell_type": "code",
   "execution_count": 11,
   "metadata": {},
   "outputs": [],
   "source": [
    "from sklearn.linear_model import LogisticRegression"
   ]
  },
  {
   "cell_type": "code",
   "execution_count": 12,
   "metadata": {},
   "outputs": [],
   "source": [
    "lr = LogisticRegression(solver=\"saga\", random_state=42, max_iter=5000)     # Converge 하지못하는 문제때문에 iteration을 늘렸습니다.\n",
    "lr.fit(X_train_scaled, y_train)\n",
    "pred=lr.predict(X_test_scaled)"
   ]
  },
  {
   "cell_type": "code",
   "execution_count": 13,
   "metadata": {},
   "outputs": [],
   "source": [
    "accuracy = accuracy_score(y_test , pred)"
   ]
  },
  {
   "cell_type": "code",
   "execution_count": 14,
   "metadata": {},
   "outputs": [
    {
     "name": "stdout",
     "output_type": "stream",
     "text": [
      "0.9366833333333333\n"
     ]
    }
   ],
   "source": [
    "print(accuracy)"
   ]
  },
  {
   "cell_type": "code",
   "execution_count": 15,
   "metadata": {},
   "outputs": [
    {
     "name": "stdout",
     "output_type": "stream",
     "text": [
      "교차 검증 0 정확도: 0.9181\n",
      "교차 검증 1 정확도: 0.9160\n",
      "교차 검증 2 정확도: 0.9248\n",
      "교차 검증 평균 정확도: 0.9196\n"
     ]
    }
   ],
   "source": [
    "score_c = cross_val_score(lr, X_scaled, y, cv=3)\n",
    "for iter_count, accuracy in enumerate(score_c):\n",
    "    print(\"교차 검증 {0} 정확도: {1:.4f}\".format(iter_count, accuracy))\n",
    "print(\"교차 검증 평균 정확도: {0:.4f}\".format(np.mean(score_c)))"
   ]
  },
  {
   "cell_type": "markdown",
   "metadata": {},
   "source": [
    "# Extra Randomforest"
   ]
  },
  {
   "cell_type": "code",
   "execution_count": 18,
   "metadata": {},
   "outputs": [],
   "source": [
    "from sklearn.ensemble import ExtraTreesClassifier"
   ]
  },
  {
   "cell_type": "code",
   "execution_count": 19,
   "metadata": {},
   "outputs": [],
   "source": [
    "erf=ExtraTreesClassifier(random_state=42).fit(X_train_scaled, y_train)\n",
    "pred=erf.predict(X_test_scaled)"
   ]
  },
  {
   "cell_type": "code",
   "execution_count": 20,
   "metadata": {},
   "outputs": [],
   "source": [
    "accuracy = accuracy_score(y_test , pred)"
   ]
  },
  {
   "cell_type": "code",
   "execution_count": 21,
   "metadata": {},
   "outputs": [
    {
     "name": "stdout",
     "output_type": "stream",
     "text": [
      "0.9953666666666666\n"
     ]
    }
   ],
   "source": [
    "print(accuracy)"
   ]
  },
  {
   "cell_type": "code",
   "execution_count": 22,
   "metadata": {},
   "outputs": [
    {
     "name": "stdout",
     "output_type": "stream",
     "text": [
      "교차 검증 0 정확도: 0.9691\n",
      "교차 검증 1 정확도: 0.9673\n",
      "교차 검증 2 정확도: 0.9713\n",
      "교차 검증 평균 정확도: 0.9692\n"
     ]
    }
   ],
   "source": [
    "score_c = cross_val_score(erf, X_scaled, y, cv=3)\n",
    "for iter_count, accuracy in enumerate(score_c):\n",
    "    print(\"교차 검증 {0} 정확도: {1:.4f}\".format(iter_count, accuracy))\n",
    "print(\"교차 검증 평균 정확도: {0:.4f}\".format(np.mean(score_c)))"
   ]
  },
  {
   "cell_type": "markdown",
   "metadata": {},
   "source": [
    "# XG Boosting"
   ]
  },
  {
   "cell_type": "code",
   "execution_count": 45,
   "metadata": {},
   "outputs": [],
   "source": [
    "from xgboost import XGBClassifier"
   ]
  },
  {
   "cell_type": "code",
   "execution_count": 47,
   "metadata": {},
   "outputs": [
    {
     "name": "stdout",
     "output_type": "stream",
     "text": [
      "[0]\tvalidation_0-merror:0.08860\n",
      "Will train until validation_0-merror hasn't improved in 5 rounds.\n",
      "[1]\tvalidation_0-merror:0.05853\n",
      "[2]\tvalidation_0-merror:0.04755\n",
      "[3]\tvalidation_0-merror:0.03967\n",
      "[4]\tvalidation_0-merror:0.03428\n",
      "[5]\tvalidation_0-merror:0.03025\n",
      "[6]\tvalidation_0-merror:0.02687\n",
      "[7]\tvalidation_0-merror:0.02367\n",
      "[8]\tvalidation_0-merror:0.02078\n",
      "[9]\tvalidation_0-merror:0.01857\n",
      "[10]\tvalidation_0-merror:0.01653\n",
      "[11]\tvalidation_0-merror:0.01487\n",
      "[12]\tvalidation_0-merror:0.01343\n",
      "[13]\tvalidation_0-merror:0.01228\n",
      "[14]\tvalidation_0-merror:0.01107\n",
      "[15]\tvalidation_0-merror:0.01003\n",
      "[16]\tvalidation_0-merror:0.00935\n",
      "[17]\tvalidation_0-merror:0.00878\n",
      "[18]\tvalidation_0-merror:0.00827\n",
      "[19]\tvalidation_0-merror:0.00752\n",
      "[20]\tvalidation_0-merror:0.00715\n",
      "[21]\tvalidation_0-merror:0.00665\n",
      "[22]\tvalidation_0-merror:0.00633\n",
      "[23]\tvalidation_0-merror:0.00608\n",
      "[24]\tvalidation_0-merror:0.00580\n",
      "[25]\tvalidation_0-merror:0.00543\n",
      "[26]\tvalidation_0-merror:0.00525\n",
      "[27]\tvalidation_0-merror:0.00513\n",
      "[28]\tvalidation_0-merror:0.00497\n",
      "[29]\tvalidation_0-merror:0.00490\n",
      "[30]\tvalidation_0-merror:0.00468\n",
      "[31]\tvalidation_0-merror:0.00468\n",
      "[32]\tvalidation_0-merror:0.00447\n",
      "[33]\tvalidation_0-merror:0.00437\n",
      "[34]\tvalidation_0-merror:0.00430\n",
      "[35]\tvalidation_0-merror:0.00430\n",
      "[36]\tvalidation_0-merror:0.00425\n",
      "[37]\tvalidation_0-merror:0.00415\n",
      "[38]\tvalidation_0-merror:0.00425\n",
      "[39]\tvalidation_0-merror:0.00422\n",
      "[40]\tvalidation_0-merror:0.00413\n",
      "[41]\tvalidation_0-merror:0.00412\n",
      "[42]\tvalidation_0-merror:0.00410\n",
      "[43]\tvalidation_0-merror:0.00403\n",
      "[44]\tvalidation_0-merror:0.00403\n",
      "[45]\tvalidation_0-merror:0.00405\n",
      "[46]\tvalidation_0-merror:0.00402\n",
      "[47]\tvalidation_0-merror:0.00398\n",
      "[48]\tvalidation_0-merror:0.00393\n",
      "[49]\tvalidation_0-merror:0.00390\n"
     ]
    },
    {
     "data": {
      "text/plain": [
       "XGBClassifier(base_score=0.5, booster='gbtree', colsample_bylevel=1,\n",
       "              colsample_bynode=1, colsample_bytree=1, gamma=0, gpu_id=-1,\n",
       "              importance_type='gain', interaction_constraints='',\n",
       "              learning_rate=0.300000012, max_delta_step=0, max_depth=8,\n",
       "              min_child_weight=1, missing=nan, monotone_constraints='()',\n",
       "              n_estimators=50, n_jobs=0, num_parallel_tree=1,\n",
       "              objective='multi:softprob', random_state=42, reg_alpha=0,\n",
       "              reg_lambda=1, scale_pos_weight=None, subsample=1,\n",
       "              tree_method='exact', validate_parameters=1, verbosity=None)"
      ]
     },
     "execution_count": 47,
     "metadata": {},
     "output_type": "execute_result"
    }
   ],
   "source": [
    "xgb=XGBClassifier(booster='gbtree',\n",
    "                    max_depth=8,\n",
    "                    n_estimators=50, \n",
    "                    random_state=42)\n",
    "\n",
    "xgb.fit(X_train_scaled,y_train, eval_set=[(X_test_scaled,y_test)], early_stopping_rounds=5)"
   ]
  },
  {
   "cell_type": "code",
   "execution_count": 48,
   "metadata": {},
   "outputs": [],
   "source": [
    "pred = xgb.predict(X_test_scaled)"
   ]
  },
  {
   "cell_type": "code",
   "execution_count": 49,
   "metadata": {},
   "outputs": [],
   "source": [
    "accuracy = accuracy_score(y_test , pred)"
   ]
  },
  {
   "cell_type": "code",
   "execution_count": 50,
   "metadata": {},
   "outputs": [
    {
     "name": "stdout",
     "output_type": "stream",
     "text": [
      "0.9961\n"
     ]
    }
   ],
   "source": [
    "print(accuracy)"
   ]
  },
  {
   "cell_type": "code",
   "execution_count": 71,
   "metadata": {},
   "outputs": [
    {
     "name": "stdout",
     "output_type": "stream",
     "text": [
      "교차 검증 0 정확도: 0.9716\n",
      "교차 검증 1 정확도: 0.9685\n",
      "교차 검증 2 정확도: 0.9718\n",
      "교차 검증 평균 정확도: 0.9706\n"
     ]
    }
   ],
   "source": [
    "score_c = cross_val_score(xgb, X_scaled, y, cv=3)\n",
    "for iter_count, accuracy in enumerate(score_c):\n",
    "    print(\"교차 검증 {0} 정확도: {1:.4f}\".format(iter_count, accuracy))\n",
    "print(\"교차 검증 평균 정확도: {0:.4f}\".format(np.mean(score_c)))"
   ]
  },
  {
   "cell_type": "markdown",
   "metadata": {},
   "source": [
    "# Gradient Boosting"
   ]
  },
  {
   "cell_type": "code",
   "execution_count": 84,
   "metadata": {},
   "outputs": [],
   "source": [
    "from sklearn.ensemble import GradientBoostingClassifier"
   ]
  },
  {
   "cell_type": "code",
   "execution_count": 85,
   "metadata": {},
   "outputs": [],
   "source": [
    "gb= GradientBoostingClassifier(random_state=42)\n",
    "gb.fit(X_train_scaled, y_train)\n",
    "pred = gb.predict(X_test_scaled)"
   ]
  },
  {
   "cell_type": "code",
   "execution_count": 8,
   "metadata": {},
   "outputs": [],
   "source": [
    "# errors=[mean_squared_error(y_test,pred)\n",
    "#   for pred in gb.staged_predict(X_test) ]\n",
    "# bst_n_estimators=np.argmin(errors)+1\n",
    "# gb_best =GradientBoostingClassifier(n_estimators=bst_n_estimators)\n",
    "# gb_best.fit(X_train, y_train)\n",
    "# pred = gb_best.predict(X_test)"
   ]
  },
  {
   "cell_type": "code",
   "execution_count": 86,
   "metadata": {},
   "outputs": [],
   "source": [
    "accuracy = accuracy_score(y_test , pred)"
   ]
  },
  {
   "cell_type": "code",
   "execution_count": 87,
   "metadata": {},
   "outputs": [
    {
     "name": "stdout",
     "output_type": "stream",
     "text": [
      "0.9589333333333333\n"
     ]
    }
   ],
   "source": [
    "print(accuracy)"
   ]
  },
  {
   "cell_type": "code",
   "execution_count": 88,
   "metadata": {},
   "outputs": [
    {
     "name": "stdout",
     "output_type": "stream",
     "text": [
      "교차 검증 0 정확도: 0.9413\n",
      "교차 검증 1 정확도: 0.9409\n",
      "교차 검증 2 정확도: 0.9475\n",
      "교차 검증 평균 정확도: 0.9433\n"
     ]
    }
   ],
   "source": [
    "score_c = cross_val_score(gb, X_scaled, y, cv=3)\n",
    "for iter_count, accuracy in enumerate(score_c):\n",
    "    print(\"교차 검증 {0} 정확도: {1:.4f}\".format(iter_count, accuracy))\n",
    "print(\"교차 검증 평균 정확도: {0:.4f}\".format(np.mean(score_c)))"
   ]
  },
  {
   "cell_type": "markdown",
   "metadata": {},
   "source": [
    "# Voting"
   ]
  },
  {
   "cell_type": "markdown",
   "metadata": {},
   "source": [
    "### 직접투표"
   ]
  },
  {
   "cell_type": "code",
   "execution_count": 52,
   "metadata": {},
   "outputs": [],
   "source": [
    "from sklearn.ensemble import VotingClassifier"
   ]
  },
  {
   "cell_type": "code",
   "execution_count": 53,
   "metadata": {},
   "outputs": [],
   "source": [
    "voting_hard = VotingClassifier(\n",
    "    estimators=[('rf', rf), ('erf', erf), ('xgb', xgb)],\n",
    "    voting='hard')"
   ]
  },
  {
   "cell_type": "code",
   "execution_count": 54,
   "metadata": {},
   "outputs": [
    {
     "data": {
      "text/plain": [
       "VotingClassifier(estimators=[('rf', RandomForestClassifier(random_state=42)),\n",
       "                             ('erf', ExtraTreesClassifier(random_state=42)),\n",
       "                             ('xgb',\n",
       "                              XGBClassifier(base_score=0.5, booster='gbtree',\n",
       "                                            colsample_bylevel=1,\n",
       "                                            colsample_bynode=1,\n",
       "                                            colsample_bytree=1, gamma=0,\n",
       "                                            gpu_id=-1, importance_type='gain',\n",
       "                                            interaction_constraints='',\n",
       "                                            learning_rate=0.300000012,\n",
       "                                            max_delta_step=0, max_depth=8,\n",
       "                                            min_child_weight=1, missing=nan,\n",
       "                                            monotone_constraints='()',\n",
       "                                            n_estimators=50, n_jobs=0,\n",
       "                                            num_parallel_tree=1,\n",
       "                                            objective='multi:softprob',\n",
       "                                            random_state=42, reg_alpha=0,\n",
       "                                            reg_lambda=1, scale_pos_weight=None,\n",
       "                                            subsample=1, tree_method='exact',\n",
       "                                            validate_parameters=1,\n",
       "                                            verbosity=None))])"
      ]
     },
     "execution_count": 54,
     "metadata": {},
     "output_type": "execute_result"
    }
   ],
   "source": [
    "voting_hard.fit(X_train_scaled, y_train)"
   ]
  },
  {
   "cell_type": "code",
   "execution_count": 55,
   "metadata": {},
   "outputs": [],
   "source": [
    "pred=voting_hard.predict(X_test_scaled)"
   ]
  },
  {
   "cell_type": "code",
   "execution_count": 56,
   "metadata": {},
   "outputs": [],
   "source": [
    "accuracy = accuracy_score(y_test , pred)"
   ]
  },
  {
   "cell_type": "code",
   "execution_count": 57,
   "metadata": {},
   "outputs": [
    {
     "name": "stdout",
     "output_type": "stream",
     "text": [
      "0.9959166666666667\n"
     ]
    }
   ],
   "source": [
    "print(accuracy)"
   ]
  },
  {
   "cell_type": "code",
   "execution_count": 58,
   "metadata": {},
   "outputs": [
    {
     "name": "stdout",
     "output_type": "stream",
     "text": [
      "교차 검증 0 정확도: 0.9707\n",
      "교차 검증 1 정확도: 0.9688\n",
      "교차 검증 2 정확도: 0.9726\n",
      "교차 검증 평균 정확도: 0.9707\n"
     ]
    }
   ],
   "source": [
    "score_c = cross_val_score(voting_hard, X_scaled, y, cv=3)\n",
    "for iter_count, accuracy in enumerate(score_c):\n",
    "    print(\"교차 검증 {0} 정확도: {1:.4f}\".format(iter_count, accuracy))\n",
    "print(\"교차 검증 평균 정확도: {0:.4f}\".format(np.mean(score_c)))"
   ]
  },
  {
   "cell_type": "markdown",
   "metadata": {},
   "source": [
    "### 간접투표"
   ]
  },
  {
   "cell_type": "code",
   "execution_count": 65,
   "metadata": {},
   "outputs": [],
   "source": [
    "voting_soft = VotingClassifier(\n",
    "    estimators=[('rf', rf), ('erf', erf), ('xgb', xgb)],\n",
    "    voting='soft')"
   ]
  },
  {
   "cell_type": "code",
   "execution_count": 66,
   "metadata": {},
   "outputs": [
    {
     "data": {
      "text/plain": [
       "VotingClassifier(estimators=[('rf', RandomForestClassifier(random_state=42)),\n",
       "                             ('erf', ExtraTreesClassifier(random_state=42)),\n",
       "                             ('xgb',\n",
       "                              XGBClassifier(base_score=0.5, booster='gbtree',\n",
       "                                            colsample_bylevel=1,\n",
       "                                            colsample_bynode=1,\n",
       "                                            colsample_bytree=1, gamma=0,\n",
       "                                            gpu_id=-1, importance_type='gain',\n",
       "                                            interaction_constraints='',\n",
       "                                            learning_rate=0.300000012,\n",
       "                                            max_delta_step=0, max_depth=8,\n",
       "                                            min_child_weight=1, missing=nan,\n",
       "                                            monotone_constraints='()',\n",
       "                                            n_estimators=50, n_jobs=0,\n",
       "                                            num_parallel_tree=1,\n",
       "                                            objective='multi:softprob',\n",
       "                                            random_state=42, reg_alpha=0,\n",
       "                                            reg_lambda=1, scale_pos_weight=None,\n",
       "                                            subsample=1, tree_method='exact',\n",
       "                                            validate_parameters=1,\n",
       "                                            verbosity=None))],\n",
       "                 voting='soft')"
      ]
     },
     "execution_count": 66,
     "metadata": {},
     "output_type": "execute_result"
    }
   ],
   "source": [
    "voting_soft.fit(X_train_scaled, y_train)"
   ]
  },
  {
   "cell_type": "code",
   "execution_count": 67,
   "metadata": {},
   "outputs": [],
   "source": [
    "pred=voting_soft.predict(X_test_scaled)"
   ]
  },
  {
   "cell_type": "code",
   "execution_count": 68,
   "metadata": {},
   "outputs": [],
   "source": [
    "accuracy = accuracy_score(y_test , pred)"
   ]
  },
  {
   "cell_type": "code",
   "execution_count": 69,
   "metadata": {},
   "outputs": [
    {
     "name": "stdout",
     "output_type": "stream",
     "text": [
      "0.9961166666666667\n"
     ]
    }
   ],
   "source": [
    "print(accuracy)"
   ]
  },
  {
   "cell_type": "code",
   "execution_count": 70,
   "metadata": {},
   "outputs": [
    {
     "name": "stdout",
     "output_type": "stream",
     "text": [
      "교차 검증 0 정확도: 0.9735\n",
      "교차 검증 1 정확도: 0.9701\n",
      "교차 검증 2 정확도: 0.9739\n",
      "교차 검증 평균 정확도: 0.9725\n"
     ]
    }
   ],
   "source": [
    "score_c = cross_val_score(voting_soft, X_scaled, y, cv=3)\n",
    "for iter_count, accuracy in enumerate(score_c):\n",
    "    print(\"교차 검증 {0} 정확도: {1:.4f}\".format(iter_count, accuracy))\n",
    "print(\"교차 검증 평균 정확도: {0:.4f}\".format(np.mean(score_c)))"
   ]
  },
  {
   "cell_type": "markdown",
   "metadata": {},
   "source": [
    "# Comparison"
   ]
  },
  {
   "cell_type": "markdown",
   "metadata": {},
   "source": [
    "교차검증평균 정확도:\n",
    "RandomForest: 0.9654\n",
    "lr: 0.9196\n",
    "erf: 0.9692\n",
    "xgb: 0.9706\n",
    "gb: 0.9433\n",
    "직접투표 voting: 0.9707\n",
    "간접투표 voting: 0.9725\n",
    "\n",
    "\n",
    "그저 성능 평가를 위해, 속도는 고려하지 않아서 느리다...,     GB까지하면 넘 느려서 뺏다...\n",
    "e다른 친구들은 standardization에 안민감! 그러므로 LR을 쓰기위해 썻음 오래걸릴거 알지만 썻다..."
   ]
  },
  {
   "cell_type": "code",
   "execution_count": null,
   "metadata": {},
   "outputs": [],
   "source": []
  }
 ],
 "metadata": {
  "kernelspec": {
   "display_name": "Python 3",
   "language": "python",
   "name": "python3"
  },
  "language_info": {
   "codemirror_mode": {
    "name": "ipython",
    "version": 3
   },
   "file_extension": ".py",
   "mimetype": "text/x-python",
   "name": "python",
   "nbconvert_exporter": "python",
   "pygments_lexer": "ipython3",
   "version": "3.8.3"
  }
 },
 "nbformat": 4,
 "nbformat_minor": 4
}
